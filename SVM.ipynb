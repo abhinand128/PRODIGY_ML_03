{
 "cells": [
  {
   "cell_type": "code",
   "execution_count": null,
   "id": "b7fa6d05",
   "metadata": {},
   "outputs": [],
   "source": [
    "import os\n",
    "import numpy as np\n",
    "import pandas as pd\n",
    "from sklearn.model_selection import train_test_split\n",
    "from sklearn.svm import SVC\n",
    "from sklearn.metrics import accuracy_score\n",
    "from PIL import Image\n",
    "\n"
   ]
  },
  {
   "cell_type": "code",
   "execution_count": null,
   "id": "4a7ecc05",
   "metadata": {},
   "outputs": [],
   "source": [
    "def load_images_from_folder(folder, image_size=(64, 64)):\n",
    "    images = []\n",
    "    labels = []\n",
    "    \n",
    "    for filename in os.listdir(folder):\n",
    "        if filename.endswith('.jpg'):\n",
    "            # Derive the label from the filename\n",
    "            if 'cat' in filename:\n",
    "                label = 0  # Label 0 for cats\n",
    "            elif 'dog' in filename:\n",
    "                label = 1  # Label 1 for dogs\n",
    "            else:\n",
    "                continue\n",
    "            \n",
    "            img_path = os.path.join(folder, filename)\n",
    "            try:\n",
    "                img = Image.open(img_path).convert('L')  # Convert to grayscale\n",
    "                img = img.resize(image_size)\n",
    "                img_array = np.array(img).flatten()  # Flatten the image\n",
    "                images.append(img_array)\n",
    "                labels.append(label)\n",
    "            except Exception as e:\n",
    "                print(f\"Error loading image {filename}: {e}\")\n",
    "    \n",
    "    return images, labels\n",
    "\n",
    "# Path to the train folder\n"
   ]
  },
  {
   "cell_type": "code",
   "execution_count": null,
   "id": "050f82d6",
   "metadata": {},
   "outputs": [],
   "source": [
    "train_folder = '/home/abhi/Documents/intern_ml/PRODIGY_ML_03/Data_set/train'\n"
   ]
  },
  {
   "cell_type": "code",
   "execution_count": null,
   "id": "16cad507",
   "metadata": {},
   "outputs": [],
   "source": [
    "\n",
    "# Load data and labels\n",
    "images, labels = load_images_from_folder(train_folder)\n",
    "\n",
    "# Convert lists to arrays\n",
    "X = np.array(images)\n",
    "y = np.array(labels)\n",
    "\n",
    "# Split data into training and testing sets\n"
   ]
  },
  {
   "cell_type": "code",
   "execution_count": null,
   "id": "80c96541",
   "metadata": {},
   "outputs": [],
   "source": [
    "X_train, X_test, y_train, y_test = train_test_split(X, y, test_size=0.2, random_state=42)\n",
    "\n",
    "# Train an SVM model\n",
    "svm_model = SVC(kernel='linear')  # You can try other kernels like 'rbf' for experimentation\n",
    "svm_model.fit(X_train, y_train)\n",
    "\n",
    "# Make predictions\n",
    "y_pred = svm_model.predict(X_test)\n",
    "\n",
    "# Evaluate and print accuracy\n",
    "accuracy = accuracy_score(y_test, y_pred)\n",
    "print(f\"Model accuracy: {accuracy:.2f}\")\n",
    "\n",
    "# Create a CSV file with predictions\n",
    "results_df = pd.DataFrame({'Actual': y_test, 'Predicted': y_pred})\n",
    "results_df.to_csv('classification_results.csv', index=False)\n",
    "\n",
    "print(\"Predictions saved to classification_results.csv\")"
   ]
  }
 ],
 "metadata": {
  "kernelspec": {
   "display_name": "Python 3 (ipykernel)",
   "language": "python",
   "name": "python3"
  },
  "language_info": {
   "codemirror_mode": {
    "name": "ipython",
    "version": 3
   },
   "file_extension": ".py",
   "mimetype": "text/x-python",
   "name": "python",
   "nbconvert_exporter": "python",
   "pygments_lexer": "ipython3",
   "version": "3.12.3"
  }
 },
 "nbformat": 4,
 "nbformat_minor": 5
}
